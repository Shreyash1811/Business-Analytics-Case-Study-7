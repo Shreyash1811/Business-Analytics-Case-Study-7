{
 "cells": [
  {
   "cell_type": "markdown",
   "metadata": {},
   "source": [
    "# BA - ASSIGNMENT 7:\n",
    "## PART 1 : Exploratory Data Analysis & Text Analytics\n",
    "*This database is a collection of complaints about consumer financial products and\n",
    "services that we sent to companies for response. Download data for 2018 and completed\n",
    "the following analysis:*\n"
   ]
  },
  {
   "cell_type": "markdown",
   "metadata": {},
   "source": [
    "1. How many complaints have been generated.\n",
    "2. How many are unique or recurring?\n",
    "3. Using “\"Consumer.complaint.narrative”, what can you say about the type of complaints in this report?\n",
    "4. What type of product issues & complaints are the most frequency?\n",
    "5. Complete a sentiment analysis for all the type of complaint submissions observed during this year.\n"
   ]
  },
  {
   "cell_type": "markdown",
   "metadata": {},
   "source": [
    "### Lets load the data and do data exploration:"
   ]
  },
  {
   "cell_type": "code",
   "execution_count": 1,
   "metadata": {},
   "outputs": [],
   "source": [
    "DF = read.csv(\"C:\\\\Users\\\\shrey\\\\OneDrive\\\\Desktop\\\\BUSINESS ANALYTICS\\\\Consumer_Complaints.csv\", na.strings = c(\"\",\"NA\"))"
   ]
  },
  {
   "cell_type": "markdown",
   "metadata": {},
   "source": [
    "## 1. How many complaints have been generated.\n",
    "### Soln:"
   ]
  },
  {
   "cell_type": "code",
   "execution_count": 2,
   "metadata": {},
   "outputs": [
    {
     "name": "stdout",
     "output_type": "stream",
     "text": [
      "Number of complains registered were 256557"
     ]
    }
   ],
   "source": [
    "cat(\"Number of complains registered were\",nrow(DF))"
   ]
  },
  {
   "cell_type": "markdown",
   "metadata": {},
   "source": [
    "## 2. How many are unique or recurring?\n",
    "### Soln:"
   ]
  },
  {
   "cell_type": "code",
   "execution_count": 3,
   "metadata": {},
   "outputs": [
    {
     "name": "stdout",
     "output_type": "stream",
     "text": [
      "Number of Unique complains from their unique complain ID 256557"
     ]
    }
   ],
   "source": [
    "cat(\"Number of Unique complains from their unique complain ID\",nrow(DF[unique(DF$Complaint.ID),]))"
   ]
  },
  {
   "cell_type": "markdown",
   "metadata": {},
   "source": [
    "## We can certainly say that all the complains were unique since the count of rows in the dataset are equal to count of unique complain IDs "
   ]
  },
  {
   "cell_type": "code",
   "execution_count": 4,
   "metadata": {},
   "outputs": [],
   "source": [
    "DF$Consumer.complaint.narrative=gsub(\"XX/XX/XXXX\", \" \", DF$Consumer.complaint.narrative)"
   ]
  },
  {
   "cell_type": "code",
   "execution_count": 5,
   "metadata": {},
   "outputs": [],
   "source": [
    "DF$Consumer.complaint.narrative=gsub(\"XXXX\", \" \", DF$Consumer.complaint.narrative)"
   ]
  },
  {
   "cell_type": "code",
   "execution_count": 6,
   "metadata": {},
   "outputs": [],
   "source": [
    "DF$Consumer.complaint.narrative=gsub(\"XX/XX/17\", \" \", DF$Consumer.complaint.narrative)"
   ]
  },
  {
   "cell_type": "code",
   "execution_count": 7,
   "metadata": {},
   "outputs": [],
   "source": [
    "DF$Consumer.complaint.narrative=gsub(\"XX/X/17\", \" \", DF$Consumer.complaint.narrative)"
   ]
  },
  {
   "cell_type": "markdown",
   "metadata": {},
   "source": [
    "## 3. Using “\"Consumer.complaint.narrative”, what can you say about the type of complaints in this report?\n",
    "### Soln:"
   ]
  },
  {
   "cell_type": "code",
   "execution_count": 8,
   "metadata": {},
   "outputs": [],
   "source": [
    "DF$Consumer.complaint.narrative = as.factor(DF$Consumer.complaint.narrative)"
   ]
  },
  {
   "cell_type": "code",
   "execution_count": 9,
   "metadata": {},
   "outputs": [
    {
     "data": {
      "text/html": [
       "<strong>There are many mistakes appear in my report without my understanding.:</strong> 634"
      ],
      "text/latex": [
       "\\textbf{There are many mistakes appear in my report without my understanding.:} 634"
      ],
      "text/markdown": [
       "**There are many mistakes appear in my report without my understanding.:** 634"
      ],
      "text/plain": [
       "There are many mistakes appear in my report without my understanding. \n",
       "                                                                  634 "
      ]
     },
     "metadata": {},
     "output_type": "display_data"
    }
   ],
   "source": [
    "summary(DF$Consumer.complaint.narrative)[1]"
   ]
  },
  {
   "cell_type": "markdown",
   "metadata": {},
   "source": [
    "## It appears like a lot of the people are worried about mistakes in their reports"
   ]
  },
  {
   "cell_type": "markdown",
   "metadata": {},
   "source": [
    "## Lets do a better text analysis to understand the complains"
   ]
  },
  {
   "cell_type": "code",
   "execution_count": 10,
   "metadata": {
    "scrolled": true
   },
   "outputs": [
    {
     "name": "stdout",
     "output_type": "stream",
     "text": [
      "package 'tm' successfully unpacked and MD5 sums checked\n",
      "\n",
      "The downloaded binary packages are in\n",
      "\tC:\\Users\\shrey\\AppData\\Local\\Temp\\Rtmp6R2jX3\\downloaded_packages\n",
      "package 'SentimentAnalysis' successfully unpacked and MD5 sums checked\n",
      "\n",
      "The downloaded binary packages are in\n",
      "\tC:\\Users\\shrey\\AppData\\Local\\Temp\\Rtmp6R2jX3\\downloaded_packages\n",
      "package 'syuzhet' successfully unpacked and MD5 sums checked\n",
      "\n",
      "The downloaded binary packages are in\n",
      "\tC:\\Users\\shrey\\AppData\\Local\\Temp\\Rtmp6R2jX3\\downloaded_packages\n"
     ]
    }
   ],
   "source": [
    "install.packages(\"tm\")\n",
    "install.packages(\"SentimentAnalysis\")\n",
    "install.packages(\"syuzhet\")"
   ]
  },
  {
   "cell_type": "code",
   "execution_count": 11,
   "metadata": {},
   "outputs": [
    {
     "name": "stdout",
     "output_type": "stream",
     "text": [
      "package 'quanteda' successfully unpacked and MD5 sums checked\n",
      "\n",
      "The downloaded binary packages are in\n",
      "\tC:\\Users\\shrey\\AppData\\Local\\Temp\\Rtmp6R2jX3\\downloaded_packages\n"
     ]
    }
   ],
   "source": [
    "install.packages(\"quanteda\")"
   ]
  },
  {
   "cell_type": "code",
   "execution_count": 12,
   "metadata": {},
   "outputs": [
    {
     "name": "stderr",
     "output_type": "stream",
     "text": [
      "Loading required package: NLP\n",
      "\n",
      "Attaching package: 'SentimentAnalysis'\n",
      "\n",
      "The following object is masked from 'package:base':\n",
      "\n",
      "    write\n",
      "\n",
      "Package version: 1.5.2\n",
      "Parallel computing: 2 of 8 threads used.\n",
      "See https://quanteda.io for tutorials and examples.\n",
      "\n",
      "Attaching package: 'quanteda'\n",
      "\n",
      "The following objects are masked from 'package:tm':\n",
      "\n",
      "    as.DocumentTermMatrix, stopwords\n",
      "\n",
      "The following object is masked from 'jupyter:irkernel':\n",
      "\n",
      "    View\n",
      "\n",
      "The following object is masked from 'package:utils':\n",
      "\n",
      "    View\n",
      "\n"
     ]
    }
   ],
   "source": [
    "library(tm)\n",
    "library(SentimentAnalysis)\n",
    "library(syuzhet)\n",
    "library(quanteda)"
   ]
  },
  {
   "cell_type": "code",
   "execution_count": 13,
   "metadata": {},
   "outputs": [],
   "source": [
    "#removing NA Consumer Complaint Narrative\n",
    "DF= DF[!is.na(DF$Consumer.complaint.narrative),]"
   ]
  },
  {
   "cell_type": "code",
   "execution_count": 14,
   "metadata": {},
   "outputs": [],
   "source": [
    "dfCorpus <- SimpleCorpus(VectorSource(DF$Consumer.complaint.narrative))"
   ]
  },
  {
   "cell_type": "code",
   "execution_count": 15,
   "metadata": {},
   "outputs": [
    {
     "name": "stderr",
     "output_type": "stream",
     "text": [
      "Warning message in tm_map.SimpleCorpus(dfCorpus, stripWhitespace):\n",
      "\"transformation drops documents\"Warning message in tm_map.SimpleCorpus(dfCorpus, content_transformer(tolower)):\n",
      "\"transformation drops documents\"Warning message in tm_map.SimpleCorpus(dfCorpus, removeNumbers):\n",
      "\"transformation drops documents\"Warning message in tm_map.SimpleCorpus(dfCorpus, removePunctuation):\n",
      "\"transformation drops documents\"Warning message in tm_map.SimpleCorpus(dfCorpus, removeWords, stopwords(\"english\")):\n",
      "\"transformation drops documents\""
     ]
    }
   ],
   "source": [
    "# 1. Stripping any extra white space:\n",
    "dfCorpus <- tm_map(dfCorpus, stripWhitespace)\n",
    "# 2. Transforming everything to lowercase\n",
    "dfCorpus <- tm_map(dfCorpus, content_transformer(tolower))\n",
    "# 3. Removing numbers \n",
    "dfCorpus <- tm_map(dfCorpus, removeNumbers)\n",
    "# 4. Removing punctuation\n",
    "dfCorpus <- tm_map(dfCorpus, removePunctuation)\n",
    "# 5. Removing stop words\n",
    "dfCorpus <- tm_map(dfCorpus, removeWords, stopwords(\"english\"))"
   ]
  },
  {
   "cell_type": "code",
   "execution_count": 16,
   "metadata": {},
   "outputs": [
    {
     "name": "stderr",
     "output_type": "stream",
     "text": [
      "Warning message in tm_map.SimpleCorpus(dfCorpus, stemDocument):\n",
      "\"transformation drops documents\""
     ]
    }
   ],
   "source": [
    "#Stemming \n",
    "dfCorpus <- tm_map(dfCorpus, stemDocument)"
   ]
  },
  {
   "cell_type": "code",
   "execution_count": 17,
   "metadata": {},
   "outputs": [],
   "source": [
    "DTM <- DocumentTermMatrix(dfCorpus)"
   ]
  },
  {
   "cell_type": "code",
   "execution_count": 18,
   "metadata": {},
   "outputs": [
    {
     "name": "stdout",
     "output_type": "stream",
     "text": [
      "<<DocumentTermMatrix (documents: 118081, terms: 48425)>>\n",
      "Non-/sparse entries: 6318134/5711754291\n",
      "Sparsity           : 100%\n",
      "Maximal term length: 233\n",
      "Weighting          : term frequency (tf)\n",
      "Sample             :\n",
      "        Terms\n",
      "Docs     account call compani credit inform loan payment receiv report time\n",
      "  102663      11   15      34     10     13   67      25     21      0   23\n",
      "  107243      11    1       9      0      1    0       0      5      0    5\n",
      "  23794        2    0       0      0      4    7       3      7      1    2\n",
      "  23937        2    0       0      0      4   12       3      7      1    2\n",
      "  25325        0    0       1      0      1  858      46      0      0    0\n",
      "  40055        0   14       3      0      2   84      11     11      0   23\n",
      "  47490       23   16       7      7      1    0       1     17      0   10\n",
      "  53285       16    5       2      9     32   64      44      6      0   11\n",
      "  61962        1    1      13      4      8    6       3      2      0    0\n",
      "  97388        6    0       7      0      5    0      17      4      1    5\n"
     ]
    }
   ],
   "source": [
    "inspect(DTM)"
   ]
  },
  {
   "cell_type": "markdown",
   "metadata": {},
   "source": [
    "> ### From the above DTM we can see that there are 118081 documents with 48425 terms. Also, we can see the most of the complains have terms like \"account\", \"call\", \"Credit\", \"Inform\", \"loan\",\"payment\",\"Receive\",\"Report\" and \"Time\". This shows that complains were mostly regarding problems related to above listed matter."
   ]
  },
  {
   "cell_type": "markdown",
   "metadata": {},
   "source": [
    "## 5. Complete a sentiment analysis for all the type of complaint submissions observed during this year."
   ]
  },
  {
   "cell_type": "code",
   "execution_count": 19,
   "metadata": {},
   "outputs": [],
   "source": [
    "DF = read.csv(\"C:\\\\Users\\\\shrey\\\\OneDrive\\\\Desktop\\\\BUSINESS ANALYTICS\\\\Consumer_Complaints.csv\", na.strings = c(\"\",\"NA\"))"
   ]
  },
  {
   "cell_type": "code",
   "execution_count": 20,
   "metadata": {},
   "outputs": [],
   "source": [
    "#removing NA Consumer Complaint Narrative\n",
    "DF= DF[!is.na(DF$Consumer.complaint.narrative),]"
   ]
  },
  {
   "cell_type": "code",
   "execution_count": 21,
   "metadata": {},
   "outputs": [],
   "source": [
    "DF$Consumer.complaint.narrative=as.character(DF$Consumer.complaint.narrative)"
   ]
  },
  {
   "cell_type": "code",
   "execution_count": 22,
   "metadata": {},
   "outputs": [],
   "source": [
    "#create a corpus\n",
    "newscorpus<- corpus(DF$Consumer.complaint.narrative,\n",
    "                      docnames=DF$Complaint.ID,\n",
    "                      docvar=data.frame(Year=DF$Date.received,\n",
    "                                        issue= DF$Issue,\n",
    "                                        product=DF$Product,\n",
    "                                        company= DF$Company))"
   ]
  },
  {
   "cell_type": "code",
   "execution_count": 44,
   "metadata": {},
   "outputs": [
    {
     "name": "stderr",
     "output_type": "stream",
     "text": [
      "Creating a dfm from a corpus input...\n",
      "   ... lowercasing\n",
      "   ... found 118,081 documents, 71,052 features\n",
      "   ... removed 194 features\n",
      "   ... created a 118,081 x 70,861 sparse dfm\n",
      "   ... complete. \n",
      "Elapsed time: 25.2 seconds.\n",
      "Creating a dfm from a corpus input...\n",
      "   ... lowercasing\n",
      "   ... found 118,081 documents, 71,052 features\n",
      "   ... removed 194 features\n",
      "   ... stemming features (English)\n",
      ", trimmed 17709 feature variants\n",
      "   ... created a 118,081 x 53,152 sparse dfm\n",
      "   ... complete. \n",
      "Elapsed time: 25.9 seconds.\n",
      "Creating a dfm from a corpus input...\n",
      "   ... lowercasing\n",
      "   ... found 118,081 documents, 1,312,481 features\n",
      "   ... removed 1 feature\n",
      "   ... created a 118,081 x 1,312,481 sparse dfm\n",
      "   ... complete. \n",
      "Elapsed time: 45.3 seconds.\n"
     ]
    }
   ],
   "source": [
    " # create a custom dictonary\n",
    "  swlist = c(\"s\",\"XX/XX/XXXX\",\"XXXX\",\"XX/X/17\",\"XX/XX/17\", \"u\",\"said\", \"the\", \"also\", \"say\", \"just\", \"like\",\"for\", \n",
    "             \"us\", \"can\", \"may\", \"now\", \"year\", \"according\", \"mr\", \n",
    "             \"market\", \"share\", \"one\", \"company\",\"\")\n",
    "  \n",
    "  dfm<- dfm(newscorpus, \n",
    "            remove = c(swlist,stopwords(\"english\")), \n",
    "            verbose=TRUE, \n",
    "            stem=FALSE)\n",
    "\n",
    "  dfm.stem<- dfm(newscorpus, \n",
    "            remove = c(swlist,stopwords(\"english\")), \n",
    "            verbose=TRUE, \n",
    "            stem=TRUE)\n",
    "\n",
    "  \n",
    "  dfm.ngram2<- dfm(newscorpus, \n",
    "                 remove = c(swlist,stopwords(\"english\")), \n",
    "                 verbose=TRUE, \n",
    "                 ngrams = 2,\n",
    "                 stem=FALSE)"
   ]
  },
  {
   "cell_type": "code",
   "execution_count": 25,
   "metadata": {},
   "outputs": [],
   "source": [
    "dfm.tm<-convert(dfm, to=\"tm\")\n",
    "require(tm)\n",
    "dfm.sparse<-removeSparseTerms(dfm.tm,0.5)\n",
    "\n",
    "  "
   ]
  },
  {
   "cell_type": "code",
   "execution_count": 26,
   "metadata": {},
   "outputs": [
    {
     "name": "stderr",
     "output_type": "stream",
     "text": [
      "Creating a dfm from a corpus input...\n",
      "   ... lowercasing\n",
      "   ... found 118,081 documents, 71,052 features\n",
      "   ... applying a dictionary consisting of 2 keys\n",
      "   ... removed 0 features\n",
      "   ... created a 118,081 x 2 sparse dfm\n",
      "   ... complete. \n",
      "Elapsed time: 24.9 seconds.\n"
     ]
    }
   ],
   "source": [
    "#Sentiment Analysis\n",
    "  mydict <- dictionary(list(negative = c(\"detriment*\", \"bad*\", \"awful*\", \"terrib*\", \"horribl*\",\"difficult*\",\"evict*\",\"degrade\",\n",
    "                                        \"humiliate\"),\n",
    "                            positive = c(\"good\", \"great\", \"super*\", \"excellent\", \"yay\")))\n",
    "  \n",
    "  dfm.sentiment <- dfm(newscorpus, \n",
    "      remove = c(swlist,stopwords(\"english\")), \n",
    "      verbose=TRUE, \n",
    "      dictionary = mydict,\n",
    "      stem=FALSE)"
   ]
  },
  {
   "cell_type": "code",
   "execution_count": 156,
   "metadata": {},
   "outputs": [
    {
     "data": {
      "text/html": [
       "<dl class=dl-horizontal>\n",
       "\t<dt>positive</dt>\n",
       "\t\t<dd>20073</dd>\n",
       "\t<dt>negative</dt>\n",
       "\t\t<dd>8445</dd>\n",
       "</dl>\n"
      ],
      "text/latex": [
       "\\begin{description*}\n",
       "\\item[positive] 20073\n",
       "\\item[negative] 8445\n",
       "\\end{description*}\n"
      ],
      "text/markdown": [
       "positive\n",
       ":   20073negative\n",
       ":   8445\n",
       "\n"
      ],
      "text/plain": [
       "positive negative \n",
       "   20073     8445 "
      ]
     },
     "metadata": {},
     "output_type": "display_data"
    }
   ],
   "source": [
    "topfeatures(dfm.sentiment)"
   ]
  },
  {
   "cell_type": "markdown",
   "metadata": {},
   "source": [
    "### From the above sentimental analysis we can see the overall sentiments of the complains. "
   ]
  },
  {
   "cell_type": "code",
   "execution_count": 46,
   "metadata": {
    "scrolled": false
   },
   "outputs": [
    {
     "data": {
      "image/png": "[encoded data removed]",
      "text/plain": [
       "plot without title"
      ]
     },
     "metadata": {},
     "output_type": "display_data"
    }
   ],
   "source": [
    "library(wordcloud)\n",
    "  set.seed(142)   #keeps cloud' shape fixed\n",
    "  dark2 <- brewer.pal(8, \"Set1\")   \n",
    "  freq<-topfeatures(dfm.stem, n=100)\n",
    "  \n",
    "  wordcloud(names(freq), \n",
    "            freq, max.words=200, \n",
    "            scale=c(4, .5), \n",
    "            colors=brewer.pal(8, \"Set1\"))"
   ]
  },
  {
   "cell_type": "markdown",
   "metadata": {},
   "source": [
    "## Again to assure the same complain reason on a wordcloud. "
   ]
  },
  {
   "cell_type": "markdown",
   "metadata": {},
   "source": [
    "## 4. What type of product issues & complaints are the most frequency?\n",
    "### Soln:"
   ]
  },
  {
   "cell_type": "code",
   "execution_count": 30,
   "metadata": {},
   "outputs": [],
   "source": [
    "DF = read.csv(\"C:\\\\Users\\\\shrey\\\\OneDrive\\\\Desktop\\\\BUSINESS ANALYTICS\\\\Consumer_Complaints.csv\", na.strings = c(\"\",\"NA\"))"
   ]
  },
  {
   "cell_type": "code",
   "execution_count": 31,
   "metadata": {},
   "outputs": [],
   "source": [
    "t= data.frame(table(DF$Product))\n",
    "colnames(t) <- c(\"Text\", \"Count\")\n"
   ]
  },
  {
   "cell_type": "code",
   "execution_count": 32,
   "metadata": {},
   "outputs": [
    {
     "data": {
      "text/html": [
       "<table>\n",
       "<thead><tr><th scope=col>Text</th><th scope=col>Count</th></tr></thead>\n",
       "<tbody>\n",
       "\t<tr><td>Checking or savings account                                                 </td><td> 21141                                                                      </td></tr>\n",
       "\t<tr><td>Credit card or prepaid card                                                 </td><td> 24168                                                                      </td></tr>\n",
       "\t<tr><td>Credit reporting, credit repair services, or other personal consumer reports</td><td>111277                                                                      </td></tr>\n",
       "\t<tr><td>Debt collection                                                             </td><td> 51072                                                                      </td></tr>\n",
       "\t<tr><td>Money transfer, virtual currency, or money service                          </td><td>  5406                                                                      </td></tr>\n",
       "\t<tr><td>Mortgage                                                                    </td><td> 24521                                                                      </td></tr>\n",
       "\t<tr><td>Payday loan, title loan, or personal loan                                   </td><td>  4355                                                                      </td></tr>\n",
       "\t<tr><td>Student loan                                                                </td><td>  8743                                                                      </td></tr>\n",
       "\t<tr><td>Vehicle loan or lease                                                       </td><td>  5874                                                                      </td></tr>\n",
       "</tbody>\n",
       "</table>\n"
      ],
      "text/latex": [
       "\\begin{tabular}{r|ll}\n",
       " Text & Count\\\\\n",
       "\\hline\n",
       "\t Checking or savings account                                                  &  21141                                                                      \\\\\n",
       "\t Credit card or prepaid card                                                  &  24168                                                                      \\\\\n",
       "\t Credit reporting, credit repair services, or other personal consumer reports & 111277                                                                      \\\\\n",
       "\t Debt collection                                                              &  51072                                                                      \\\\\n",
       "\t Money transfer, virtual currency, or money service                           &   5406                                                                      \\\\\n",
       "\t Mortgage                                                                     &  24521                                                                      \\\\\n",
       "\t Payday loan, title loan, or personal loan                                    &   4355                                                                      \\\\\n",
       "\t Student loan                                                                 &   8743                                                                      \\\\\n",
       "\t Vehicle loan or lease                                                        &   5874                                                                      \\\\\n",
       "\\end{tabular}\n"
      ],
      "text/markdown": [
       "\n",
       "| Text | Count |\n",
       "|---|---|\n",
       "| Checking or savings account                                                  |  21141                                                                       |\n",
       "| Credit card or prepaid card                                                  |  24168                                                                       |\n",
       "| Credit reporting, credit repair services, or other personal consumer reports | 111277                                                                       |\n",
       "| Debt collection                                                              |  51072                                                                       |\n",
       "| Money transfer, virtual currency, or money service                           |   5406                                                                       |\n",
       "| Mortgage                                                                     |  24521                                                                       |\n",
       "| Payday loan, title loan, or personal loan                                    |   4355                                                                       |\n",
       "| Student loan                                                                 |   8743                                                                       |\n",
       "| Vehicle loan or lease                                                        |   5874                                                                       |\n",
       "\n"
      ],
      "text/plain": [
       "  Text                                                                        \n",
       "1 Checking or savings account                                                 \n",
       "2 Credit card or prepaid card                                                 \n",
       "3 Credit reporting, credit repair services, or other personal consumer reports\n",
       "4 Debt collection                                                             \n",
       "5 Money transfer, virtual currency, or money service                          \n",
       "6 Mortgage                                                                    \n",
       "7 Payday loan, title loan, or personal loan                                   \n",
       "8 Student loan                                                                \n",
       "9 Vehicle loan or lease                                                       \n",
       "  Count \n",
       "1  21141\n",
       "2  24168\n",
       "3 111277\n",
       "4  51072\n",
       "5   5406\n",
       "6  24521\n",
       "7   4355\n",
       "8   8743\n",
       "9   5874"
      ]
     },
     "metadata": {},
     "output_type": "display_data"
    }
   ],
   "source": [
    "t"
   ]
  },
  {
   "cell_type": "markdown",
   "metadata": {},
   "source": [
    "> ### From the above matrix we can see that the most repetative product complains were with \"Credit reporting, credit repair services, or other personal consumer reports\" followed by \"Debt collection\""
   ]
  },
  {
   "cell_type": "code",
   "execution_count": null,
   "metadata": {},
   "outputs": [],
   "source": []
  },
  {
   "cell_type": "markdown",
   "metadata": {},
   "source": [
    "## PART 2: Cluster Analysis\n",
    "*Assume you are an analytics consultant and have been tasked with understanding\n",
    "critical behaviors and trends of Casino customers. Using BigML’s cluster modeling tools\n",
    "provide answer the following questions:*\n",
    "\n",
    "● What is the average spending by gender, age, and game.\n",
    "\n",
    "● Identify 3 segments (clusters) that exceed average spending\n",
    "\n",
    "● Giving you segments above, how would you recommend the Casino to market\n",
    "these clusters"
   ]
  },
  {
   "cell_type": "code",
   "execution_count": 64,
   "metadata": {},
   "outputs": [],
   "source": [
    "DF1 = read.csv(\"C:\\\\Users\\\\shrey\\\\OneDrive\\\\Desktop\\\\BUSINESS ANALYTICS\\\\BIGML.csv\", na.strings = c(\"\",\"NA\"))"
   ]
  },
  {
   "cell_type": "code",
   "execution_count": 65,
   "metadata": {},
   "outputs": [
    {
     "data": {
      "text/html": [
       "<table>\n",
       "<thead><tr><th scope=col>Player</th><th scope=col>Slots</th><th scope=col>BJ</th><th scope=col>Craps</th><th scope=col>Bac</th><th scope=col>Bingo</th><th scope=col>Poker</th><th scope=col>Other</th><th scope=col>Total.Spend</th><th scope=col>Gender</th><th scope=col>Age</th></tr></thead>\n",
       "<tbody>\n",
       "\t<tr><td>Player 1</td><td>1013    </td><td>6190    </td><td>4276    </td><td>868     </td><td>  0     </td><td> 0      </td><td> 0      </td><td>12348   </td><td>Female  </td><td>58      </td></tr>\n",
       "\t<tr><td>Player 2</td><td>  68    </td><td>  23    </td><td>  23    </td><td> 12     </td><td>  0     </td><td>28      </td><td>53      </td><td>  207   </td><td>Male    </td><td>55      </td></tr>\n",
       "\t<tr><td>Player 3</td><td> 148    </td><td>   0    </td><td>   0    </td><td>  0     </td><td>  0     </td><td> 0      </td><td> 0      </td><td>  148   </td><td>Female  </td><td>34      </td></tr>\n",
       "\t<tr><td>Player 4</td><td>  63    </td><td>  17    </td><td>  28    </td><td>  9     </td><td>  0     </td><td>23      </td><td>52      </td><td>  193   </td><td>Male    </td><td>21      </td></tr>\n",
       "\t<tr><td>Player 5</td><td>  92    </td><td>  44    </td><td>  18    </td><td> 10     </td><td>  0     </td><td>26      </td><td>60      </td><td>  250   </td><td>Female  </td><td>68      </td></tr>\n",
       "\t<tr><td>Player 6</td><td> 658    </td><td>   0    </td><td>   0    </td><td>  0     </td><td>106     </td><td> 0      </td><td> 0      </td><td>  764   </td><td>Female  </td><td>59      </td></tr>\n",
       "</tbody>\n",
       "</table>\n"
      ],
      "text/latex": [
       "\\begin{tabular}{r|lllllllllll}\n",
       " Player & Slots & BJ & Craps & Bac & Bingo & Poker & Other & Total.Spend & Gender & Age\\\\\n",
       "\\hline\n",
       "\t Player 1 & 1013     & 6190     & 4276     & 868      &   0      &  0       &  0       & 12348    & Female   & 58      \\\\\n",
       "\t Player 2 &   68     &   23     &   23     &  12      &   0      & 28       & 53       &   207    & Male     & 55      \\\\\n",
       "\t Player 3 &  148     &    0     &    0     &   0      &   0      &  0       &  0       &   148    & Female   & 34      \\\\\n",
       "\t Player 4 &   63     &   17     &   28     &   9      &   0      & 23       & 52       &   193    & Male     & 21      \\\\\n",
       "\t Player 5 &   92     &   44     &   18     &  10      &   0      & 26       & 60       &   250    & Female   & 68      \\\\\n",
       "\t Player 6 &  658     &    0     &    0     &   0      & 106      &  0       &  0       &   764    & Female   & 59      \\\\\n",
       "\\end{tabular}\n"
      ],
      "text/markdown": [
       "\n",
       "| Player | Slots | BJ | Craps | Bac | Bingo | Poker | Other | Total.Spend | Gender | Age |\n",
       "|---|---|---|---|---|---|---|---|---|---|---|\n",
       "| Player 1 | 1013     | 6190     | 4276     | 868      |   0      |  0       |  0       | 12348    | Female   | 58       |\n",
       "| Player 2 |   68     |   23     |   23     |  12      |   0      | 28       | 53       |   207    | Male     | 55       |\n",
       "| Player 3 |  148     |    0     |    0     |   0      |   0      |  0       |  0       |   148    | Female   | 34       |\n",
       "| Player 4 |   63     |   17     |   28     |   9      |   0      | 23       | 52       |   193    | Male     | 21       |\n",
       "| Player 5 |   92     |   44     |   18     |  10      |   0      | 26       | 60       |   250    | Female   | 68       |\n",
       "| Player 6 |  658     |    0     |    0     |   0      | 106      |  0       |  0       |   764    | Female   | 59       |\n",
       "\n"
      ],
      "text/plain": [
       "  Player   Slots BJ   Craps Bac Bingo Poker Other Total.Spend Gender Age\n",
       "1 Player 1 1013  6190 4276  868   0    0     0    12348       Female 58 \n",
       "2 Player 2   68    23   23   12   0   28    53      207       Male   55 \n",
       "3 Player 3  148     0    0    0   0    0     0      148       Female 34 \n",
       "4 Player 4   63    17   28    9   0   23    52      193       Male   21 \n",
       "5 Player 5   92    44   18   10   0   26    60      250       Female 68 \n",
       "6 Player 6  658     0    0    0 106    0     0      764       Female 59 "
      ]
     },
     "metadata": {},
     "output_type": "display_data"
    }
   ],
   "source": [
    "head(DF1)"
   ]
  },
  {
   "cell_type": "markdown",
   "metadata": {},
   "source": [
    "### What is the average spending by gender, age, and game.\n",
    "### SOLN:\n"
   ]
  },
  {
   "cell_type": "code",
   "execution_count": 50,
   "metadata": {},
   "outputs": [
    {
     "name": "stderr",
     "output_type": "stream",
     "text": [
      "\n",
      "Attaching package: 'dplyr'\n",
      "\n",
      "The following objects are masked from 'package:stats':\n",
      "\n",
      "    filter, lag\n",
      "\n",
      "The following objects are masked from 'package:base':\n",
      "\n",
      "    intersect, setdiff, setequal, union\n",
      "\n"
     ]
    }
   ],
   "source": [
    "library(dplyr)"
   ]
  },
  {
   "cell_type": "code",
   "execution_count": 67,
   "metadata": {},
   "outputs": [
    {
     "data": {
      "text/html": [
       "<table>\n",
       "<thead><tr><th scope=col>Gender</th><th scope=col>Average_spending</th></tr></thead>\n",
       "<tbody>\n",
       "\t<tr><td>Female  </td><td>1147.538</td></tr>\n",
       "\t<tr><td>Male    </td><td>1098.050</td></tr>\n",
       "</tbody>\n",
       "</table>\n"
      ],
      "text/latex": [
       "\\begin{tabular}{r|ll}\n",
       " Gender & Average\\_spending\\\\\n",
       "\\hline\n",
       "\t Female   & 1147.538\\\\\n",
       "\t Male     & 1098.050\\\\\n",
       "\\end{tabular}\n"
      ],
      "text/markdown": [
       "\n",
       "| Gender | Average_spending |\n",
       "|---|---|\n",
       "| Female   | 1147.538 |\n",
       "| Male     | 1098.050 |\n",
       "\n"
      ],
      "text/plain": [
       "  Gender Average_spending\n",
       "1 Female 1147.538        \n",
       "2 Male   1098.050        "
      ]
     },
     "metadata": {},
     "output_type": "display_data"
    }
   ],
   "source": [
    "# Average spending by Gender\n",
    "grouped_gender= DF1 %>% group_by(Gender) %>% summarise(Average_spending = mean(Total.Spend))\n",
    "grouped_gender"
   ]
  },
  {
   "cell_type": "code",
   "execution_count": 70,
   "metadata": {},
   "outputs": [
    {
     "name": "stderr",
     "output_type": "stream",
     "text": [
      "\n",
      "Attaching package: 'ggplot2'\n",
      "\n",
      "The following object is masked from 'package:NLP':\n",
      "\n",
      "    annotate\n",
      "\n"
     ]
    }
   ],
   "source": [
    "library(ggplot2)"
   ]
  },
  {
   "cell_type": "code",
   "execution_count": 85,
   "metadata": {},
   "outputs": [
    {
     "name": "stderr",
     "output_type": "stream",
     "text": [
      "Warning message:\n",
      "\"Ignoring unknown parameters: binwidth, bins, pad\""
     ]
    },
    {
     "data": {
      "image/png": "[encoded data removed]",
      "text/plain": [
       "plot without title"
      ]
     },
     "metadata": {},
     "output_type": "display_data"
    }
   ],
   "source": [
    "# Average spending by Age\n",
    "grouped_Age= DF1 %>% group_by(Age) %>% summarise(Average_spending = mean(Total.Spend)) %>% arrange(Average_spending)\n",
    "ggplot(data = grouped_Age, aes(x= Age,y=Average_spending))+ geom_histogram(stat = \"identity\",color = \"Black\",fill=\"green\")"
   ]
  },
  {
   "cell_type": "code",
   "execution_count": 89,
   "metadata": {},
   "outputs": [
    {
     "data": {
      "text/html": [
       "<table>\n",
       "<thead><tr><th scope=col>Age</th><th scope=col>Average_spending</th></tr></thead>\n",
       "<tbody>\n",
       "\t<tr><td>72      </td><td>139.0000</td></tr>\n",
       "\t<tr><td>89      </td><td>220.0000</td></tr>\n",
       "\t<tr><td>79      </td><td>241.0000</td></tr>\n",
       "\t<tr><td>21      </td><td>666.3103</td></tr>\n",
       "\t<tr><td>54      </td><td>774.4946</td></tr>\n",
       "\t<tr><td>37      </td><td>794.8471</td></tr>\n",
       "</tbody>\n",
       "</table>\n"
      ],
      "text/latex": [
       "\\begin{tabular}{r|ll}\n",
       " Age & Average\\_spending\\\\\n",
       "\\hline\n",
       "\t 72       & 139.0000\\\\\n",
       "\t 89       & 220.0000\\\\\n",
       "\t 79       & 241.0000\\\\\n",
       "\t 21       & 666.3103\\\\\n",
       "\t 54       & 774.4946\\\\\n",
       "\t 37       & 794.8471\\\\\n",
       "\\end{tabular}\n"
      ],
      "text/markdown": [
       "\n",
       "| Age | Average_spending |\n",
       "|---|---|\n",
       "| 72       | 139.0000 |\n",
       "| 89       | 220.0000 |\n",
       "| 79       | 241.0000 |\n",
       "| 21       | 666.3103 |\n",
       "| 54       | 774.4946 |\n",
       "| 37       | 794.8471 |\n",
       "\n"
      ],
      "text/plain": [
       "  Age Average_spending\n",
       "1 72  139.0000        \n",
       "2 89  220.0000        \n",
       "3 79  241.0000        \n",
       "4 21  666.3103        \n",
       "5 54  774.4946        \n",
       "6 37  794.8471        "
      ]
     },
     "metadata": {},
     "output_type": "display_data"
    },
    {
     "data": {
      "text/html": [
       "<table>\n",
       "<thead><tr><th scope=col>Age</th><th scope=col>Average_spending</th></tr></thead>\n",
       "<tbody>\n",
       "\t<tr><td>24      </td><td>1367.071</td></tr>\n",
       "\t<tr><td>34      </td><td>1429.218</td></tr>\n",
       "\t<tr><td>45      </td><td>1560.878</td></tr>\n",
       "\t<tr><td>40      </td><td>1708.504</td></tr>\n",
       "\t<tr><td>61      </td><td>1764.258</td></tr>\n",
       "\t<tr><td>53      </td><td>1769.243</td></tr>\n",
       "</tbody>\n",
       "</table>\n"
      ],
      "text/latex": [
       "\\begin{tabular}{r|ll}\n",
       " Age & Average\\_spending\\\\\n",
       "\\hline\n",
       "\t 24       & 1367.071\\\\\n",
       "\t 34       & 1429.218\\\\\n",
       "\t 45       & 1560.878\\\\\n",
       "\t 40       & 1708.504\\\\\n",
       "\t 61       & 1764.258\\\\\n",
       "\t 53       & 1769.243\\\\\n",
       "\\end{tabular}\n"
      ],
      "text/markdown": [
       "\n",
       "| Age | Average_spending |\n",
       "|---|---|\n",
       "| 24       | 1367.071 |\n",
       "| 34       | 1429.218 |\n",
       "| 45       | 1560.878 |\n",
       "| 40       | 1708.504 |\n",
       "| 61       | 1764.258 |\n",
       "| 53       | 1769.243 |\n",
       "\n"
      ],
      "text/plain": [
       "  Age Average_spending\n",
       "1 24  1367.071        \n",
       "2 34  1429.218        \n",
       "3 45  1560.878        \n",
       "4 40  1708.504        \n",
       "5 61  1764.258        \n",
       "6 53  1769.243        "
      ]
     },
     "metadata": {},
     "output_type": "display_data"
    }
   ],
   "source": [
    "#Bottom 5 averages\n",
    "head(grouped_Age)\n",
    "#Top 5 Averages\n",
    "tail(grouped_Age)"
   ]
  },
  {
   "cell_type": "code",
   "execution_count": 108,
   "metadata": {},
   "outputs": [],
   "source": [
    "# average spending by games\n",
    "avg_games= colMeans(DF1[2:8][sapply(DF1[2:8], is.numeric)])\n",
    "avg_games = data.frame(avg_games)\n"
   ]
  },
  {
   "cell_type": "code",
   "execution_count": 109,
   "metadata": {},
   "outputs": [
    {
     "data": {
      "text/html": [
       "<table>\n",
       "<thead><tr><th></th><th scope=col>avg_games</th></tr></thead>\n",
       "<tbody>\n",
       "\t<tr><th scope=row>Slots</th><td>291.7742</td></tr>\n",
       "\t<tr><th scope=row>BJ</th><td>283.2906</td></tr>\n",
       "\t<tr><th scope=row>Craps</th><td>267.6272</td></tr>\n",
       "\t<tr><th scope=row>Bac</th><td> 82.0686</td></tr>\n",
       "\t<tr><th scope=row>Bingo</th><td> 10.0864</td></tr>\n",
       "\t<tr><th scope=row>Poker</th><td> 54.5922</td></tr>\n",
       "</tbody>\n",
       "</table>\n"
      ],
      "text/latex": [
       "\\begin{tabular}{r|l}\n",
       "  & avg\\_games\\\\\n",
       "\\hline\n",
       "\tSlots & 291.7742\\\\\n",
       "\tBJ & 283.2906\\\\\n",
       "\tCraps & 267.6272\\\\\n",
       "\tBac &  82.0686\\\\\n",
       "\tBingo &  10.0864\\\\\n",
       "\tPoker &  54.5922\\\\\n",
       "\\end{tabular}\n"
      ],
      "text/markdown": [
       "\n",
       "| <!--/--> | avg_games |\n",
       "|---|---|\n",
       "| Slots | 291.7742 |\n",
       "| BJ | 283.2906 |\n",
       "| Craps | 267.6272 |\n",
       "| Bac |  82.0686 |\n",
       "| Bingo |  10.0864 |\n",
       "| Poker |  54.5922 |\n",
       "\n"
      ],
      "text/plain": [
       "      avg_games\n",
       "Slots 291.7742 \n",
       "BJ    283.2906 \n",
       "Craps 267.6272 \n",
       "Bac    82.0686 \n",
       "Bingo  10.0864 \n",
       "Poker  54.5922 "
      ]
     },
     "metadata": {},
     "output_type": "display_data"
    }
   ],
   "source": [
    "head(avg_games)"
   ]
  },
  {
   "cell_type": "markdown",
   "metadata": {},
   "source": [
    "### Above is average spending from each game"
   ]
  },
  {
   "cell_type": "markdown",
   "metadata": {},
   "source": [
    "### Identify 3 segments (clusters) that exceed average spending\n",
    "\n",
    "### Giving you segments above, how would you recommend the Casino to market these clusters"
   ]
  },
  {
   "cell_type": "markdown",
   "metadata": {},
   "source": [
    "## K mean Cluster Report with 10 cluster from BIGml:\n",
    "K-means Cluster (k=10) with 10 centroids\n",
    "Data distribution:\n",
    "\n",
    "    Global: 100% (5000 instances)\n",
    "    Cluster 0: 10.10% (505 instances)\n",
    "    Cluster 1: 19.94% (997 instances)\n",
    "    Cluster 2: 2.72% (136 instances)\n",
    "    Cluster 3: 24.90% (1245 instances)\n",
    "    Cluster 4: 3.96% (198 instances)\n",
    "    Cluster 5: 2.54% (127 instances)\n",
    "    Cluster 6: 1.96% (98 instances)\n",
    "    Cluster 7: 8.66% (433 instances)\n",
    "    Cluster 8: 9.22% (461 instances)\n",
    "    Cluster 9: 16.00% (800 instances)\n",
    "    \n",
    "Cluster metrics:\n",
    "\n",
    "    total_ss (Total sum of squares): 11630.779640\n",
    "    within_ss (Total within-cluster sum of the sum of squares): 2846.241680\n",
    "    between_ss (Between sum of squares): 8784.537960\n",
    "    ratio_ss (Ratio of sum of squares): 0.755280\n",
    "Centroids:\n",
    "\n",
    "    Global: Poker: 54.80721, Other: 133.93921, Bac: 83.18245, Bingo: 10.12061, BJ: 285.78182, Craps: 270.05518, Player: [], Slots: 294.08529, Total Spend: 1131.97974, Gender: \"Male\", Age: 45.45996\n",
    "    \n",
    "    Cluster 0: Poker: 205.56891, Other: 500.7796, Bac: 97.08288, Bingo: 0, BJ: 307.82574, Craps: 205.07286, Player: [], Slots: 702.73345, Total Spend: 2019.0929, Gender: \"Female\", Age: 34.03036\n",
    "    \n",
    "    Cluster 1: Poker: 10.21361, Other: 27.14923, Bac: 12.32737, Bingo: 0.61543, BJ: 42.44192, Craps: 25.69372, Player: [], Slots: 117.69085, Total Spend: 236.10273, Gender: \"Female\", Age: 36.14907\n",
    "    \n",
    "    Cluster 2: Poker: 0, Other: 0, Bac: 1067.04343, Bingo: 0, BJ: 3059.01241, Craps: 3553.73733, Player: [], Slots: 974.55843, Total Spend: 8654.32058, Gender: \"Female\", Age: 46.21613\n",
    "    \n",
    "    Cluster 3: Poker: 10.85073, Other: 28.08722, Bac: 15.46224, Bingo: 0.40255, BJ: 36.85912, Craps: 29.62865, Player: [], Slots: 121.34393, Total Spend: 242.65607, Gender: \"Male\", Age: 59.88004\n",
    "    \n",
    "    Cluster 4: Poker: 1.51695, Other: 530.77119, Bac: 0.85285, Bingo: 0, BJ: 3.66102, Craps: 2.02157, Player: [], Slots: 2.12789, Total Spend: 540.95146, Gender: \"Female\", Age: 45.23883\n",
    "    \n",
    "    Cluster 5: Poker: 0, Other: 0, Bac: 1014.73755, Bingo: 0, BJ: 4850.41588, Craps: 4689.15478, Player: [], Slots: 1023.78331, Total Spend: 11578.15882, Gender: \"Male\", Age: 45.50067\n",
    "    \n",
    "    Cluster 6: Poker: 522.00478, Other: 0, Bac: 0, Bingo: 0, BJ: 0, Craps: 0, Player: [], Slots: 0, Total Spend: 522.00478, Gender: \"Male\", Age: 45.01115\n",
    "    \n",
    "    Cluster 7: Poker: 196.9158, Other: 514.70703, Bac: 99.13118, Bingo: 0, BJ: 298.94468, Craps: 199.76305, Player: [], Slots: 670.53027, Total Spend: 1980.00174, Gender: \"Female\", Age: 58.45059\n",
    "    \n",
    "    Cluster 8: Poker: 0, Other: 0, Bac: 0, Bingo: 105.69913, BJ: 0, Craps: 0, Player: [], Slots: 396.75301, Total Spend: 502.45114, Gender: \"Male\", Age: 45.71888\n",
    "    \n",
    "    Cluster 9: Poker: 10.85826, Other: 30.00209, Bac: 15.38223, Bingo: 0.28748, BJ: 40.2812, Craps: 30.78349, Player: [], Slots: 123.83638, Total Spend: 251.42599, Gender: \"Male\", Age: 33.19197\n"
   ]
  },
  {
   "cell_type": "markdown",
   "metadata": {},
   "source": [
    "### Recommendation for the casino:\n",
    "1) First thing would be to not spend a lot the resources on Bingo as it has the least average spending with most cluster with 0 spending in Bingo.\n",
    "\n",
    "2) Second would be to reach out to the specific clusters with offers for the games that they have spending above average spending for each game for the complete dataset\n",
    "- like approaching cluster 5 with \"Bac\",\"BJ\",\"Craps\" and \"Slots\" deals\n",
    "- cluster 2 with \"Bac\", \"BJ\",\"Craps\",\"Slots\" deals\n",
    "- cluster 0 with \"Bac\",\"BJ\",\"Craps\",\"Slots\" deals\n",
    "\n",
    "3) it is observed that Players with high average spending are inclined towards playing games like \"Bac\",\"BJ\",\"Craps\" and \"Slots\" and dont prefer other games so they should be rechead out with offers in these games.\n",
    "\n",
    "4) According to Average spending per game \"Slots\" has the highest average spending and my suggestion would be to have more facilities for Slots to avoid customers standing in queue to play it.\n"
   ]
  },
  {
   "cell_type": "code",
   "execution_count": null,
   "metadata": {},
   "outputs": [],
   "source": []
  },
  {
   "cell_type": "code",
   "execution_count": null,
   "metadata": {},
   "outputs": [],
   "source": []
  },
  {
   "cell_type": "code",
   "execution_count": null,
   "metadata": {},
   "outputs": [],
   "source": []
  },
  {
   "cell_type": "code",
   "execution_count": null,
   "metadata": {},
   "outputs": [],
   "source": []
  }
 ],
 "metadata": {
  "kernelspec": {
   "display_name": "R",
   "language": "R",
   "name": "ir"
  },
  "language_info": {
   "codemirror_mode": "r",
   "file_extension": ".r",
   "mimetype": "text/x-r-source",
   "name": "R",
   "pygments_lexer": "r",
   "version": "3.6.1"
  }
 },
 "nbformat": 4,
 "nbformat_minor": 2
}
